{
  "nbformat": 4,
  "nbformat_minor": 0,
  "metadata": {
    "colab": {
      "provenance": []
    },
    "kernelspec": {
      "name": "python3",
      "display_name": "Python 3"
    },
    "language_info": {
      "name": "python"
    }
  },
  "cells": [
    {
      "cell_type": "markdown",
      "source": [
        "# Необходимые импорты"
      ],
      "metadata": {
        "id": "VYeQwlyXc5Br"
      }
    },
    {
      "cell_type": "code",
      "source": [
        "import numpy as np\n",
        "import pandas as pd\n",
        "import time\n",
        "import random\n",
        "import math\n",
        "import matplotlib.pyplot as plt\n",
        "import scipy.special"
      ],
      "metadata": {
        "id": "cW4H3C9g4mZ_"
      },
      "execution_count": 1,
      "outputs": []
    },
    {
      "cell_type": "markdown",
      "source": [
        "# Методы генерации"
      ],
      "metadata": {
        "id": "LE0MHD4XIPic"
      }
    },
    {
      "cell_type": "markdown",
      "source": [
        "## 1. ИКГ"
      ],
      "metadata": {
        "id": "cxc33QsvIUCr"
      }
    },
    {
      "cell_type": "markdown",
      "source": [
        "Инвернсый конгруэнтный метод: как линейный, только берем обратный по модулю элемент"
      ],
      "metadata": {
        "id": "79ILBFf4R59z"
      }
    },
    {
      "cell_type": "code",
      "execution_count": 2,
      "metadata": {
        "id": "oDipOyNwGrYA"
      },
      "outputs": [],
      "source": [
        "def egcd(a, b):\n",
        "    if a == 0:\n",
        "        return (b, 0, 1)\n",
        "    else:\n",
        "        g, y, x = egcd(b % a, a)\n",
        "        return (g, x - (b // a) * y, y)\n",
        "\n",
        "def modinv(a, m):\n",
        "    gcd, x, y = egcd(a, m)\n",
        "    if gcd != 1:\n",
        "        return None\n",
        "    else:\n",
        "        return x % m\n",
        "\n",
        "def ICG(M, k, b, r_i):\n",
        "    if (r_i == 0):\n",
        "        return b\n",
        "    return (k * modinv(r_i, M) + b) % M"
      ]
    },
    {
      "cell_type": "markdown",
      "source": [
        "## 2. CCG"
      ],
      "metadata": {
        "id": "orxqgvJuIZyU"
      }
    },
    {
      "cell_type": "markdown",
      "source": [
        "Кубический конгруэнтный метод: как квадратичный, только берем еще одну степень  "
      ],
      "metadata": {
        "id": "vkGpR3MH4TZ9"
      }
    },
    {
      "cell_type": "code",
      "source": [
        "def CCG(M, k1, k2, k3, b, r_i):\n",
        "    return (k1*np.power(r_i, 3) + k2*np.power(r_i, 2) + k3*r_i + b) % M"
      ],
      "metadata": {
        "id": "T7o-Ntxr1umI"
      },
      "execution_count": 3,
      "outputs": []
    },
    {
      "cell_type": "markdown",
      "source": [
        "# Генерация выборок"
      ],
      "metadata": {
        "id": "wjy1sHyhIwyt"
      }
    },
    {
      "cell_type": "code",
      "source": [
        "samples = {}"
      ],
      "metadata": {
        "id": "aRILc4Alp2sP"
      },
      "execution_count": 4,
      "outputs": []
    },
    {
      "cell_type": "code",
      "source": [
        "r_i = 1\n",
        "k = 1\n",
        "b = 1\n",
        "M = 104729\n",
        "\n",
        "all_numbers = []\n",
        "\n",
        "for i in range(20*100):\n",
        "    all_numbers.append(r_i)\n",
        "    r_i = ICG(M, k, b, r_i)\n",
        "\n",
        "samples['ICG'] = np.array(all_numbers).reshape((20, -1))"
      ],
      "metadata": {
        "id": "IcP5bKJwnxl3"
      },
      "execution_count": 5,
      "outputs": []
    },
    {
      "cell_type": "code",
      "source": [
        "r_i = 1\n",
        "k1 = 1\n",
        "k2 = 328942\n",
        "k3 = 11\n",
        "b = 1\n",
        "M = 104729\n",
        "\n",
        "all_numbers = []\n",
        "\n",
        "for i in range(20*100):\n",
        "    all_numbers.append(r_i)\n",
        "    r_i = CCG(M, k1, k2, k3, b, r_i)\n",
        "\n",
        "samples['CCG'] = np.array(all_numbers).reshape((20, -1))"
      ],
      "metadata": {
        "id": "lVvGfhVypBGs"
      },
      "execution_count": 6,
      "outputs": []
    },
    {
      "cell_type": "markdown",
      "source": [
        "# Подсчет параметров"
      ],
      "metadata": {
        "id": "rEIbtDDyI2OI"
      }
    },
    {
      "cell_type": "code",
      "source": [
        "parameters = {'ICG': [], 'CCG': []}"
      ],
      "metadata": {
        "id": "36Gq4Cskp4zX"
      },
      "execution_count": 7,
      "outputs": []
    },
    {
      "cell_type": "code",
      "source": [
        "for t in ['ICG', 'CCG']:\n",
        "    for sample in samples[t]:\n",
        "        p = {}\n",
        "        p['mean'] = round(sample.mean(), 3)\n",
        "        p['std'] = round(sample.std(), 3)\n",
        "        p['cv'] = round(p['std'] / p['mean'], 3)\n",
        "        parameters[t].append(p)"
      ],
      "metadata": {
        "id": "3z-YTF1JqY2A"
      },
      "execution_count": 8,
      "outputs": []
    },
    {
      "cell_type": "code",
      "source": [
        "df = {f'{i+1}': parameters['ICG'][i].values() for i in range(20)}\n",
        "df = pd.DataFrame(data=df, index=parameters['ICG'][0])\n",
        "df"
      ],
      "metadata": {
        "colab": {
          "base_uri": "https://localhost:8080/",
          "height": 163
        },
        "id": "uxU6wONz8pd2",
        "outputId": "95bb28c1-eef3-4f0d-9be3-7ed3a52f76f9"
      },
      "execution_count": 9,
      "outputs": [
        {
          "output_type": "execute_result",
          "data": {
            "text/plain": [
              "              1          2          3          4          5          6  \\\n",
              "mean  51317.020  55095.720  54112.580  54851.800  54391.690  48893.300   \n",
              "std   29011.534  31438.316  30153.060  30511.578  29640.705  30063.013   \n",
              "cv        0.565      0.571      0.557      0.556      0.545      0.615   \n",
              "\n",
              "              7          8          9         10         11         12  \\\n",
              "mean  50348.580  50020.870  52520.550  50035.430  54693.720  53756.160   \n",
              "std   29418.799  30501.642  31274.828  29426.324  27772.406  31316.060   \n",
              "cv        0.584      0.610      0.595      0.588      0.508      0.583   \n",
              "\n",
              "             13         14         15         16         17         18  \\\n",
              "mean  51533.620  52830.340  52491.030  54728.030  48663.990  51576.670   \n",
              "std   28438.771  30626.752  29486.159  29456.106  28197.044  30282.604   \n",
              "cv        0.552      0.580      0.562      0.538      0.579      0.587   \n",
              "\n",
              "             19         20  \n",
              "mean  53289.530  54934.870  \n",
              "std   30135.910  30063.694  \n",
              "cv        0.566      0.547  "
            ],
            "text/html": [
              "\n",
              "  <div id=\"df-1c8ecef1-bf84-4bdc-abd1-197c95a29279\" class=\"colab-df-container\">\n",
              "    <div>\n",
              "<style scoped>\n",
              "    .dataframe tbody tr th:only-of-type {\n",
              "        vertical-align: middle;\n",
              "    }\n",
              "\n",
              "    .dataframe tbody tr th {\n",
              "        vertical-align: top;\n",
              "    }\n",
              "\n",
              "    .dataframe thead th {\n",
              "        text-align: right;\n",
              "    }\n",
              "</style>\n",
              "<table border=\"1\" class=\"dataframe\">\n",
              "  <thead>\n",
              "    <tr style=\"text-align: right;\">\n",
              "      <th></th>\n",
              "      <th>1</th>\n",
              "      <th>2</th>\n",
              "      <th>3</th>\n",
              "      <th>4</th>\n",
              "      <th>5</th>\n",
              "      <th>6</th>\n",
              "      <th>7</th>\n",
              "      <th>8</th>\n",
              "      <th>9</th>\n",
              "      <th>10</th>\n",
              "      <th>11</th>\n",
              "      <th>12</th>\n",
              "      <th>13</th>\n",
              "      <th>14</th>\n",
              "      <th>15</th>\n",
              "      <th>16</th>\n",
              "      <th>17</th>\n",
              "      <th>18</th>\n",
              "      <th>19</th>\n",
              "      <th>20</th>\n",
              "    </tr>\n",
              "  </thead>\n",
              "  <tbody>\n",
              "    <tr>\n",
              "      <th>mean</th>\n",
              "      <td>51317.020</td>\n",
              "      <td>55095.720</td>\n",
              "      <td>54112.580</td>\n",
              "      <td>54851.800</td>\n",
              "      <td>54391.690</td>\n",
              "      <td>48893.300</td>\n",
              "      <td>50348.580</td>\n",
              "      <td>50020.870</td>\n",
              "      <td>52520.550</td>\n",
              "      <td>50035.430</td>\n",
              "      <td>54693.720</td>\n",
              "      <td>53756.160</td>\n",
              "      <td>51533.620</td>\n",
              "      <td>52830.340</td>\n",
              "      <td>52491.030</td>\n",
              "      <td>54728.030</td>\n",
              "      <td>48663.990</td>\n",
              "      <td>51576.670</td>\n",
              "      <td>53289.530</td>\n",
              "      <td>54934.870</td>\n",
              "    </tr>\n",
              "    <tr>\n",
              "      <th>std</th>\n",
              "      <td>29011.534</td>\n",
              "      <td>31438.316</td>\n",
              "      <td>30153.060</td>\n",
              "      <td>30511.578</td>\n",
              "      <td>29640.705</td>\n",
              "      <td>30063.013</td>\n",
              "      <td>29418.799</td>\n",
              "      <td>30501.642</td>\n",
              "      <td>31274.828</td>\n",
              "      <td>29426.324</td>\n",
              "      <td>27772.406</td>\n",
              "      <td>31316.060</td>\n",
              "      <td>28438.771</td>\n",
              "      <td>30626.752</td>\n",
              "      <td>29486.159</td>\n",
              "      <td>29456.106</td>\n",
              "      <td>28197.044</td>\n",
              "      <td>30282.604</td>\n",
              "      <td>30135.910</td>\n",
              "      <td>30063.694</td>\n",
              "    </tr>\n",
              "    <tr>\n",
              "      <th>cv</th>\n",
              "      <td>0.565</td>\n",
              "      <td>0.571</td>\n",
              "      <td>0.557</td>\n",
              "      <td>0.556</td>\n",
              "      <td>0.545</td>\n",
              "      <td>0.615</td>\n",
              "      <td>0.584</td>\n",
              "      <td>0.610</td>\n",
              "      <td>0.595</td>\n",
              "      <td>0.588</td>\n",
              "      <td>0.508</td>\n",
              "      <td>0.583</td>\n",
              "      <td>0.552</td>\n",
              "      <td>0.580</td>\n",
              "      <td>0.562</td>\n",
              "      <td>0.538</td>\n",
              "      <td>0.579</td>\n",
              "      <td>0.587</td>\n",
              "      <td>0.566</td>\n",
              "      <td>0.547</td>\n",
              "    </tr>\n",
              "  </tbody>\n",
              "</table>\n",
              "</div>\n",
              "    <div class=\"colab-df-buttons\">\n",
              "\n",
              "  <div class=\"colab-df-container\">\n",
              "    <button class=\"colab-df-convert\" onclick=\"convertToInteractive('df-1c8ecef1-bf84-4bdc-abd1-197c95a29279')\"\n",
              "            title=\"Convert this dataframe to an interactive table.\"\n",
              "            style=\"display:none;\">\n",
              "\n",
              "  <svg xmlns=\"http://www.w3.org/2000/svg\" height=\"24px\" viewBox=\"0 -960 960 960\">\n",
              "    <path d=\"M120-120v-720h720v720H120Zm60-500h600v-160H180v160Zm220 220h160v-160H400v160Zm0 220h160v-160H400v160ZM180-400h160v-160H180v160Zm440 0h160v-160H620v160ZM180-180h160v-160H180v160Zm440 0h160v-160H620v160Z\"/>\n",
              "  </svg>\n",
              "    </button>\n",
              "\n",
              "  <style>\n",
              "    .colab-df-container {\n",
              "      display:flex;\n",
              "      gap: 12px;\n",
              "    }\n",
              "\n",
              "    .colab-df-convert {\n",
              "      background-color: #E8F0FE;\n",
              "      border: none;\n",
              "      border-radius: 50%;\n",
              "      cursor: pointer;\n",
              "      display: none;\n",
              "      fill: #1967D2;\n",
              "      height: 32px;\n",
              "      padding: 0 0 0 0;\n",
              "      width: 32px;\n",
              "    }\n",
              "\n",
              "    .colab-df-convert:hover {\n",
              "      background-color: #E2EBFA;\n",
              "      box-shadow: 0px 1px 2px rgba(60, 64, 67, 0.3), 0px 1px 3px 1px rgba(60, 64, 67, 0.15);\n",
              "      fill: #174EA6;\n",
              "    }\n",
              "\n",
              "    .colab-df-buttons div {\n",
              "      margin-bottom: 4px;\n",
              "    }\n",
              "\n",
              "    [theme=dark] .colab-df-convert {\n",
              "      background-color: #3B4455;\n",
              "      fill: #D2E3FC;\n",
              "    }\n",
              "\n",
              "    [theme=dark] .colab-df-convert:hover {\n",
              "      background-color: #434B5C;\n",
              "      box-shadow: 0px 1px 3px 1px rgba(0, 0, 0, 0.15);\n",
              "      filter: drop-shadow(0px 1px 2px rgba(0, 0, 0, 0.3));\n",
              "      fill: #FFFFFF;\n",
              "    }\n",
              "  </style>\n",
              "\n",
              "    <script>\n",
              "      const buttonEl =\n",
              "        document.querySelector('#df-1c8ecef1-bf84-4bdc-abd1-197c95a29279 button.colab-df-convert');\n",
              "      buttonEl.style.display =\n",
              "        google.colab.kernel.accessAllowed ? 'block' : 'none';\n",
              "\n",
              "      async function convertToInteractive(key) {\n",
              "        const element = document.querySelector('#df-1c8ecef1-bf84-4bdc-abd1-197c95a29279');\n",
              "        const dataTable =\n",
              "          await google.colab.kernel.invokeFunction('convertToInteractive',\n",
              "                                                    [key], {});\n",
              "        if (!dataTable) return;\n",
              "\n",
              "        const docLinkHtml = 'Like what you see? Visit the ' +\n",
              "          '<a target=\"_blank\" href=https://colab.research.google.com/notebooks/data_table.ipynb>data table notebook</a>'\n",
              "          + ' to learn more about interactive tables.';\n",
              "        element.innerHTML = '';\n",
              "        dataTable['output_type'] = 'display_data';\n",
              "        await google.colab.output.renderOutput(dataTable, element);\n",
              "        const docLink = document.createElement('div');\n",
              "        docLink.innerHTML = docLinkHtml;\n",
              "        element.appendChild(docLink);\n",
              "      }\n",
              "    </script>\n",
              "  </div>\n",
              "\n",
              "\n",
              "<div id=\"df-b1509b61-c2aa-4aa2-b9bc-16ea1f358025\">\n",
              "  <button class=\"colab-df-quickchart\" onclick=\"quickchart('df-b1509b61-c2aa-4aa2-b9bc-16ea1f358025')\"\n",
              "            title=\"Suggest charts\"\n",
              "            style=\"display:none;\">\n",
              "\n",
              "<svg xmlns=\"http://www.w3.org/2000/svg\" height=\"24px\"viewBox=\"0 0 24 24\"\n",
              "     width=\"24px\">\n",
              "    <g>\n",
              "        <path d=\"M19 3H5c-1.1 0-2 .9-2 2v14c0 1.1.9 2 2 2h14c1.1 0 2-.9 2-2V5c0-1.1-.9-2-2-2zM9 17H7v-7h2v7zm4 0h-2V7h2v10zm4 0h-2v-4h2v4z\"/>\n",
              "    </g>\n",
              "</svg>\n",
              "  </button>\n",
              "\n",
              "<style>\n",
              "  .colab-df-quickchart {\n",
              "      --bg-color: #E8F0FE;\n",
              "      --fill-color: #1967D2;\n",
              "      --hover-bg-color: #E2EBFA;\n",
              "      --hover-fill-color: #174EA6;\n",
              "      --disabled-fill-color: #AAA;\n",
              "      --disabled-bg-color: #DDD;\n",
              "  }\n",
              "\n",
              "  [theme=dark] .colab-df-quickchart {\n",
              "      --bg-color: #3B4455;\n",
              "      --fill-color: #D2E3FC;\n",
              "      --hover-bg-color: #434B5C;\n",
              "      --hover-fill-color: #FFFFFF;\n",
              "      --disabled-bg-color: #3B4455;\n",
              "      --disabled-fill-color: #666;\n",
              "  }\n",
              "\n",
              "  .colab-df-quickchart {\n",
              "    background-color: var(--bg-color);\n",
              "    border: none;\n",
              "    border-radius: 50%;\n",
              "    cursor: pointer;\n",
              "    display: none;\n",
              "    fill: var(--fill-color);\n",
              "    height: 32px;\n",
              "    padding: 0;\n",
              "    width: 32px;\n",
              "  }\n",
              "\n",
              "  .colab-df-quickchart:hover {\n",
              "    background-color: var(--hover-bg-color);\n",
              "    box-shadow: 0 1px 2px rgba(60, 64, 67, 0.3), 0 1px 3px 1px rgba(60, 64, 67, 0.15);\n",
              "    fill: var(--button-hover-fill-color);\n",
              "  }\n",
              "\n",
              "  .colab-df-quickchart-complete:disabled,\n",
              "  .colab-df-quickchart-complete:disabled:hover {\n",
              "    background-color: var(--disabled-bg-color);\n",
              "    fill: var(--disabled-fill-color);\n",
              "    box-shadow: none;\n",
              "  }\n",
              "\n",
              "  .colab-df-spinner {\n",
              "    border: 2px solid var(--fill-color);\n",
              "    border-color: transparent;\n",
              "    border-bottom-color: var(--fill-color);\n",
              "    animation:\n",
              "      spin 1s steps(1) infinite;\n",
              "  }\n",
              "\n",
              "  @keyframes spin {\n",
              "    0% {\n",
              "      border-color: transparent;\n",
              "      border-bottom-color: var(--fill-color);\n",
              "      border-left-color: var(--fill-color);\n",
              "    }\n",
              "    20% {\n",
              "      border-color: transparent;\n",
              "      border-left-color: var(--fill-color);\n",
              "      border-top-color: var(--fill-color);\n",
              "    }\n",
              "    30% {\n",
              "      border-color: transparent;\n",
              "      border-left-color: var(--fill-color);\n",
              "      border-top-color: var(--fill-color);\n",
              "      border-right-color: var(--fill-color);\n",
              "    }\n",
              "    40% {\n",
              "      border-color: transparent;\n",
              "      border-right-color: var(--fill-color);\n",
              "      border-top-color: var(--fill-color);\n",
              "    }\n",
              "    60% {\n",
              "      border-color: transparent;\n",
              "      border-right-color: var(--fill-color);\n",
              "    }\n",
              "    80% {\n",
              "      border-color: transparent;\n",
              "      border-right-color: var(--fill-color);\n",
              "      border-bottom-color: var(--fill-color);\n",
              "    }\n",
              "    90% {\n",
              "      border-color: transparent;\n",
              "      border-bottom-color: var(--fill-color);\n",
              "    }\n",
              "  }\n",
              "</style>\n",
              "\n",
              "  <script>\n",
              "    async function quickchart(key) {\n",
              "      const quickchartButtonEl =\n",
              "        document.querySelector('#' + key + ' button');\n",
              "      quickchartButtonEl.disabled = true;  // To prevent multiple clicks.\n",
              "      quickchartButtonEl.classList.add('colab-df-spinner');\n",
              "      try {\n",
              "        const charts = await google.colab.kernel.invokeFunction(\n",
              "            'suggestCharts', [key], {});\n",
              "      } catch (error) {\n",
              "        console.error('Error during call to suggestCharts:', error);\n",
              "      }\n",
              "      quickchartButtonEl.classList.remove('colab-df-spinner');\n",
              "      quickchartButtonEl.classList.add('colab-df-quickchart-complete');\n",
              "    }\n",
              "    (() => {\n",
              "      let quickchartButtonEl =\n",
              "        document.querySelector('#df-b1509b61-c2aa-4aa2-b9bc-16ea1f358025 button');\n",
              "      quickchartButtonEl.style.display =\n",
              "        google.colab.kernel.accessAllowed ? 'block' : 'none';\n",
              "    })();\n",
              "  </script>\n",
              "</div>\n",
              "    </div>\n",
              "  </div>\n"
            ],
            "application/vnd.google.colaboratory.intrinsic+json": {
              "type": "dataframe",
              "variable_name": "df",
              "summary": "{\n  \"name\": \"df\",\n  \"rows\": 3,\n  \"fields\": [\n    {\n      \"column\": \"1\",\n      \"properties\": {\n        \"dtype\": \"number\",\n        \"std\": 25731.140607514797,\n        \"min\": 0.565,\n        \"max\": 51317.02,\n        \"num_unique_values\": 3,\n        \"samples\": [\n          51317.02,\n          29011.534,\n          0.565\n        ],\n        \"semantic_type\": \"\",\n        \"description\": \"\"\n      }\n    },\n    {\n      \"column\": \"2\",\n      \"properties\": {\n        \"dtype\": \"number\",\n        \"std\": 27638.982187110418,\n        \"min\": 0.571,\n        \"max\": 55095.72,\n        \"num_unique_values\": 3,\n        \"samples\": [\n          55095.72,\n          31438.316,\n          0.571\n        ],\n        \"semantic_type\": \"\",\n        \"description\": \"\"\n      }\n    },\n    {\n      \"column\": \"3\",\n      \"properties\": {\n        \"dtype\": \"number\",\n        \"std\": 27115.011429550537,\n        \"min\": 0.557,\n        \"max\": 54112.58,\n        \"num_unique_values\": 3,\n        \"samples\": [\n          54112.58,\n          30153.06,\n          0.557\n        ],\n        \"semantic_type\": \"\",\n        \"description\": \"\"\n      }\n    },\n    {\n      \"column\": \"4\",\n      \"properties\": {\n        \"dtype\": \"number\",\n        \"std\": 27483.412690934463,\n        \"min\": 0.556,\n        \"max\": 54851.8,\n        \"num_unique_values\": 3,\n        \"samples\": [\n          54851.8,\n          30511.578,\n          0.556\n        ],\n        \"semantic_type\": \"\",\n        \"description\": \"\"\n      }\n    },\n    {\n      \"column\": \"5\",\n      \"properties\": {\n        \"dtype\": \"number\",\n        \"std\": 27232.171530828662,\n        \"min\": 0.545,\n        \"max\": 54391.69,\n        \"num_unique_values\": 3,\n        \"samples\": [\n          54391.69,\n          29640.705,\n          0.545\n        ],\n        \"semantic_type\": \"\",\n        \"description\": \"\"\n      }\n    },\n    {\n      \"column\": \"6\",\n      \"properties\": {\n        \"dtype\": \"number\",\n        \"std\": 24660.434331542765,\n        \"min\": 0.615,\n        \"max\": 48893.3,\n        \"num_unique_values\": 3,\n        \"samples\": [\n          48893.3,\n          30063.013,\n          0.615\n        ],\n        \"semantic_type\": \"\",\n        \"description\": \"\"\n      }\n    },\n    {\n      \"column\": \"7\",\n      \"properties\": {\n        \"dtype\": \"number\",\n        \"std\": 25292.975993709537,\n        \"min\": 0.584,\n        \"max\": 50348.58,\n        \"num_unique_values\": 3,\n        \"samples\": [\n          50348.58,\n          29418.799,\n          0.584\n        ],\n        \"semantic_type\": \"\",\n        \"description\": \"\"\n      }\n    },\n    {\n      \"column\": \"8\",\n      \"properties\": {\n        \"dtype\": \"number\",\n        \"std\": 25210.247999734187,\n        \"min\": 0.61,\n        \"max\": 50020.87,\n        \"num_unique_values\": 3,\n        \"samples\": [\n          50020.87,\n          30501.642,\n          0.61\n        ],\n        \"semantic_type\": \"\",\n        \"description\": \"\"\n      }\n    },\n    {\n      \"column\": \"9\",\n      \"properties\": {\n        \"dtype\": \"number\",\n        \"std\": 26419.071477001857,\n        \"min\": 0.595,\n        \"max\": 52520.55,\n        \"num_unique_values\": 3,\n        \"samples\": [\n          52520.55,\n          31274.828,\n          0.595\n        ],\n        \"semantic_type\": \"\",\n        \"description\": \"\"\n      }\n    },\n    {\n      \"column\": \"10\",\n      \"properties\": {\n        \"dtype\": \"number\",\n        \"std\": 25146.552458292357,\n        \"min\": 0.588,\n        \"max\": 50035.43,\n        \"num_unique_values\": 3,\n        \"samples\": [\n          50035.43,\n          29426.324,\n          0.588\n        ],\n        \"semantic_type\": \"\",\n        \"description\": \"\"\n      }\n    },\n    {\n      \"column\": \"11\",\n      \"properties\": {\n        \"dtype\": \"number\",\n        \"std\": 27347.708328383273,\n        \"min\": 0.508,\n        \"max\": 54693.72,\n        \"num_unique_values\": 3,\n        \"samples\": [\n          54693.72,\n          27772.406,\n          0.508\n        ],\n        \"semantic_type\": \"\",\n        \"description\": \"\"\n      }\n    },\n    {\n      \"column\": \"12\",\n      \"properties\": {\n        \"dtype\": \"number\",\n        \"std\": 26999.627300978493,\n        \"min\": 0.583,\n        \"max\": 53756.16,\n        \"num_unique_values\": 3,\n        \"samples\": [\n          53756.16,\n          31316.06,\n          0.583\n        ],\n        \"semantic_type\": \"\",\n        \"description\": \"\"\n      }\n    },\n    {\n      \"column\": \"13\",\n      \"properties\": {\n        \"dtype\": \"number\",\n        \"std\": 25812.663067176243,\n        \"min\": 0.552,\n        \"max\": 51533.62,\n        \"num_unique_values\": 3,\n        \"samples\": [\n          51533.62,\n          28438.771,\n          0.552\n        ],\n        \"semantic_type\": \"\",\n        \"description\": \"\"\n      }\n    },\n    {\n      \"column\": \"14\",\n      \"properties\": {\n        \"dtype\": \"number\",\n        \"std\": 26526.54416838891,\n        \"min\": 0.58,\n        \"max\": 52830.34,\n        \"num_unique_values\": 3,\n        \"samples\": [\n          52830.34,\n          30626.752,\n          0.58\n        ],\n        \"semantic_type\": \"\",\n        \"description\": \"\"\n      }\n    },\n    {\n      \"column\": \"15\",\n      \"properties\": {\n        \"dtype\": \"number\",\n        \"std\": 26311.827983602332,\n        \"min\": 0.562,\n        \"max\": 52491.03,\n        \"num_unique_values\": 3,\n        \"samples\": [\n          52491.03,\n          29486.159,\n          0.562\n        ],\n        \"semantic_type\": \"\",\n        \"description\": \"\"\n      }\n    },\n    {\n      \"column\": \"16\",\n      \"properties\": {\n        \"dtype\": \"number\",\n        \"std\": 27390.38459470301,\n        \"min\": 0.538,\n        \"max\": 54728.03,\n        \"num_unique_values\": 3,\n        \"samples\": [\n          54728.03,\n          29456.106,\n          0.538\n        ],\n        \"semantic_type\": \"\",\n        \"description\": \"\"\n      }\n    },\n    {\n      \"column\": \"17\",\n      \"properties\": {\n        \"dtype\": \"number\",\n        \"std\": 24433.80202103247,\n        \"min\": 0.579,\n        \"max\": 48663.99,\n        \"num_unique_values\": 3,\n        \"samples\": [\n          48663.99,\n          28197.044,\n          0.579\n        ],\n        \"semantic_type\": \"\",\n        \"description\": \"\"\n      }\n    },\n    {\n      \"column\": \"18\",\n      \"properties\": {\n        \"dtype\": \"number\",\n        \"std\": 25918.237266525713,\n        \"min\": 0.587,\n        \"max\": 51576.67,\n        \"num_unique_values\": 3,\n        \"samples\": [\n          51576.67,\n          30282.604,\n          0.587\n        ],\n        \"semantic_type\": \"\",\n        \"description\": \"\"\n      }\n    },\n    {\n      \"column\": \"19\",\n      \"properties\": {\n        \"dtype\": \"number\",\n        \"std\": 26720.59992245693,\n        \"min\": 0.566,\n        \"max\": 53289.53,\n        \"num_unique_values\": 3,\n        \"samples\": [\n          53289.53,\n          30135.91,\n          0.566\n        ],\n        \"semantic_type\": \"\",\n        \"description\": \"\"\n      }\n    },\n    {\n      \"column\": \"20\",\n      \"properties\": {\n        \"dtype\": \"number\",\n        \"std\": 27508.023213343033,\n        \"min\": 0.547,\n        \"max\": 54934.87,\n        \"num_unique_values\": 3,\n        \"samples\": [\n          54934.87,\n          30063.694,\n          0.547\n        ],\n        \"semantic_type\": \"\",\n        \"description\": \"\"\n      }\n    }\n  ]\n}"
            }
          },
          "metadata": {},
          "execution_count": 9
        }
      ]
    },
    {
      "cell_type": "code",
      "source": [
        "df = {f'{i+1}': parameters['CCG'][i].values() for i in range(20)}\n",
        "df = pd.DataFrame(data=df, index=parameters['CCG'][0])\n",
        "df"
      ],
      "metadata": {
        "colab": {
          "base_uri": "https://localhost:8080/",
          "height": 163
        },
        "id": "IZ61AaWi7QaX",
        "outputId": "e958d327-be68-4195-9d64-6b10593ea2d3"
      },
      "execution_count": 10,
      "outputs": [
        {
          "output_type": "execute_result",
          "data": {
            "text/plain": [
              "              1          2          3          4          5          6  \\\n",
              "mean  50676.810  49101.820  49309.170  50034.310  54454.760  50627.490   \n",
              "std   29464.987  28238.844  29487.235  30838.815  29103.258  28547.826   \n",
              "cv        0.581      0.575      0.598      0.616      0.534      0.564   \n",
              "\n",
              "              7          8          9         10         11         12  \\\n",
              "mean  60243.840  54400.500  47869.930  48193.420  52221.210  51289.000   \n",
              "std   28144.326  30722.038  30661.758  28128.713  30464.708  29723.078   \n",
              "cv        0.467      0.565      0.641      0.584      0.583      0.580   \n",
              "\n",
              "             13         14         15         16         17         18  \\\n",
              "mean  50058.720  60651.200  55800.980  50819.590  47684.340  50526.880   \n",
              "std   28990.644  28086.541  28954.074  32126.820  28486.883  29127.947   \n",
              "cv        0.579      0.463      0.519      0.632      0.597      0.576   \n",
              "\n",
              "             19         20  \n",
              "mean  50022.260  54805.160  \n",
              "std   30335.394  29315.311  \n",
              "cv        0.606      0.535  "
            ],
            "text/html": [
              "\n",
              "  <div id=\"df-210e4cc1-8a26-4e56-ad17-03a0e610ec1e\" class=\"colab-df-container\">\n",
              "    <div>\n",
              "<style scoped>\n",
              "    .dataframe tbody tr th:only-of-type {\n",
              "        vertical-align: middle;\n",
              "    }\n",
              "\n",
              "    .dataframe tbody tr th {\n",
              "        vertical-align: top;\n",
              "    }\n",
              "\n",
              "    .dataframe thead th {\n",
              "        text-align: right;\n",
              "    }\n",
              "</style>\n",
              "<table border=\"1\" class=\"dataframe\">\n",
              "  <thead>\n",
              "    <tr style=\"text-align: right;\">\n",
              "      <th></th>\n",
              "      <th>1</th>\n",
              "      <th>2</th>\n",
              "      <th>3</th>\n",
              "      <th>4</th>\n",
              "      <th>5</th>\n",
              "      <th>6</th>\n",
              "      <th>7</th>\n",
              "      <th>8</th>\n",
              "      <th>9</th>\n",
              "      <th>10</th>\n",
              "      <th>11</th>\n",
              "      <th>12</th>\n",
              "      <th>13</th>\n",
              "      <th>14</th>\n",
              "      <th>15</th>\n",
              "      <th>16</th>\n",
              "      <th>17</th>\n",
              "      <th>18</th>\n",
              "      <th>19</th>\n",
              "      <th>20</th>\n",
              "    </tr>\n",
              "  </thead>\n",
              "  <tbody>\n",
              "    <tr>\n",
              "      <th>mean</th>\n",
              "      <td>50676.810</td>\n",
              "      <td>49101.820</td>\n",
              "      <td>49309.170</td>\n",
              "      <td>50034.310</td>\n",
              "      <td>54454.760</td>\n",
              "      <td>50627.490</td>\n",
              "      <td>60243.840</td>\n",
              "      <td>54400.500</td>\n",
              "      <td>47869.930</td>\n",
              "      <td>48193.420</td>\n",
              "      <td>52221.210</td>\n",
              "      <td>51289.000</td>\n",
              "      <td>50058.720</td>\n",
              "      <td>60651.200</td>\n",
              "      <td>55800.980</td>\n",
              "      <td>50819.590</td>\n",
              "      <td>47684.340</td>\n",
              "      <td>50526.880</td>\n",
              "      <td>50022.260</td>\n",
              "      <td>54805.160</td>\n",
              "    </tr>\n",
              "    <tr>\n",
              "      <th>std</th>\n",
              "      <td>29464.987</td>\n",
              "      <td>28238.844</td>\n",
              "      <td>29487.235</td>\n",
              "      <td>30838.815</td>\n",
              "      <td>29103.258</td>\n",
              "      <td>28547.826</td>\n",
              "      <td>28144.326</td>\n",
              "      <td>30722.038</td>\n",
              "      <td>30661.758</td>\n",
              "      <td>28128.713</td>\n",
              "      <td>30464.708</td>\n",
              "      <td>29723.078</td>\n",
              "      <td>28990.644</td>\n",
              "      <td>28086.541</td>\n",
              "      <td>28954.074</td>\n",
              "      <td>32126.820</td>\n",
              "      <td>28486.883</td>\n",
              "      <td>29127.947</td>\n",
              "      <td>30335.394</td>\n",
              "      <td>29315.311</td>\n",
              "    </tr>\n",
              "    <tr>\n",
              "      <th>cv</th>\n",
              "      <td>0.581</td>\n",
              "      <td>0.575</td>\n",
              "      <td>0.598</td>\n",
              "      <td>0.616</td>\n",
              "      <td>0.534</td>\n",
              "      <td>0.564</td>\n",
              "      <td>0.467</td>\n",
              "      <td>0.565</td>\n",
              "      <td>0.641</td>\n",
              "      <td>0.584</td>\n",
              "      <td>0.583</td>\n",
              "      <td>0.580</td>\n",
              "      <td>0.579</td>\n",
              "      <td>0.463</td>\n",
              "      <td>0.519</td>\n",
              "      <td>0.632</td>\n",
              "      <td>0.597</td>\n",
              "      <td>0.576</td>\n",
              "      <td>0.606</td>\n",
              "      <td>0.535</td>\n",
              "    </tr>\n",
              "  </tbody>\n",
              "</table>\n",
              "</div>\n",
              "    <div class=\"colab-df-buttons\">\n",
              "\n",
              "  <div class=\"colab-df-container\">\n",
              "    <button class=\"colab-df-convert\" onclick=\"convertToInteractive('df-210e4cc1-8a26-4e56-ad17-03a0e610ec1e')\"\n",
              "            title=\"Convert this dataframe to an interactive table.\"\n",
              "            style=\"display:none;\">\n",
              "\n",
              "  <svg xmlns=\"http://www.w3.org/2000/svg\" height=\"24px\" viewBox=\"0 -960 960 960\">\n",
              "    <path d=\"M120-120v-720h720v720H120Zm60-500h600v-160H180v160Zm220 220h160v-160H400v160Zm0 220h160v-160H400v160ZM180-400h160v-160H180v160Zm440 0h160v-160H620v160ZM180-180h160v-160H180v160Zm440 0h160v-160H620v160Z\"/>\n",
              "  </svg>\n",
              "    </button>\n",
              "\n",
              "  <style>\n",
              "    .colab-df-container {\n",
              "      display:flex;\n",
              "      gap: 12px;\n",
              "    }\n",
              "\n",
              "    .colab-df-convert {\n",
              "      background-color: #E8F0FE;\n",
              "      border: none;\n",
              "      border-radius: 50%;\n",
              "      cursor: pointer;\n",
              "      display: none;\n",
              "      fill: #1967D2;\n",
              "      height: 32px;\n",
              "      padding: 0 0 0 0;\n",
              "      width: 32px;\n",
              "    }\n",
              "\n",
              "    .colab-df-convert:hover {\n",
              "      background-color: #E2EBFA;\n",
              "      box-shadow: 0px 1px 2px rgba(60, 64, 67, 0.3), 0px 1px 3px 1px rgba(60, 64, 67, 0.15);\n",
              "      fill: #174EA6;\n",
              "    }\n",
              "\n",
              "    .colab-df-buttons div {\n",
              "      margin-bottom: 4px;\n",
              "    }\n",
              "\n",
              "    [theme=dark] .colab-df-convert {\n",
              "      background-color: #3B4455;\n",
              "      fill: #D2E3FC;\n",
              "    }\n",
              "\n",
              "    [theme=dark] .colab-df-convert:hover {\n",
              "      background-color: #434B5C;\n",
              "      box-shadow: 0px 1px 3px 1px rgba(0, 0, 0, 0.15);\n",
              "      filter: drop-shadow(0px 1px 2px rgba(0, 0, 0, 0.3));\n",
              "      fill: #FFFFFF;\n",
              "    }\n",
              "  </style>\n",
              "\n",
              "    <script>\n",
              "      const buttonEl =\n",
              "        document.querySelector('#df-210e4cc1-8a26-4e56-ad17-03a0e610ec1e button.colab-df-convert');\n",
              "      buttonEl.style.display =\n",
              "        google.colab.kernel.accessAllowed ? 'block' : 'none';\n",
              "\n",
              "      async function convertToInteractive(key) {\n",
              "        const element = document.querySelector('#df-210e4cc1-8a26-4e56-ad17-03a0e610ec1e');\n",
              "        const dataTable =\n",
              "          await google.colab.kernel.invokeFunction('convertToInteractive',\n",
              "                                                    [key], {});\n",
              "        if (!dataTable) return;\n",
              "\n",
              "        const docLinkHtml = 'Like what you see? Visit the ' +\n",
              "          '<a target=\"_blank\" href=https://colab.research.google.com/notebooks/data_table.ipynb>data table notebook</a>'\n",
              "          + ' to learn more about interactive tables.';\n",
              "        element.innerHTML = '';\n",
              "        dataTable['output_type'] = 'display_data';\n",
              "        await google.colab.output.renderOutput(dataTable, element);\n",
              "        const docLink = document.createElement('div');\n",
              "        docLink.innerHTML = docLinkHtml;\n",
              "        element.appendChild(docLink);\n",
              "      }\n",
              "    </script>\n",
              "  </div>\n",
              "\n",
              "\n",
              "<div id=\"df-f98dfe01-83b6-4b15-a304-c6a1584250b7\">\n",
              "  <button class=\"colab-df-quickchart\" onclick=\"quickchart('df-f98dfe01-83b6-4b15-a304-c6a1584250b7')\"\n",
              "            title=\"Suggest charts\"\n",
              "            style=\"display:none;\">\n",
              "\n",
              "<svg xmlns=\"http://www.w3.org/2000/svg\" height=\"24px\"viewBox=\"0 0 24 24\"\n",
              "     width=\"24px\">\n",
              "    <g>\n",
              "        <path d=\"M19 3H5c-1.1 0-2 .9-2 2v14c0 1.1.9 2 2 2h14c1.1 0 2-.9 2-2V5c0-1.1-.9-2-2-2zM9 17H7v-7h2v7zm4 0h-2V7h2v10zm4 0h-2v-4h2v4z\"/>\n",
              "    </g>\n",
              "</svg>\n",
              "  </button>\n",
              "\n",
              "<style>\n",
              "  .colab-df-quickchart {\n",
              "      --bg-color: #E8F0FE;\n",
              "      --fill-color: #1967D2;\n",
              "      --hover-bg-color: #E2EBFA;\n",
              "      --hover-fill-color: #174EA6;\n",
              "      --disabled-fill-color: #AAA;\n",
              "      --disabled-bg-color: #DDD;\n",
              "  }\n",
              "\n",
              "  [theme=dark] .colab-df-quickchart {\n",
              "      --bg-color: #3B4455;\n",
              "      --fill-color: #D2E3FC;\n",
              "      --hover-bg-color: #434B5C;\n",
              "      --hover-fill-color: #FFFFFF;\n",
              "      --disabled-bg-color: #3B4455;\n",
              "      --disabled-fill-color: #666;\n",
              "  }\n",
              "\n",
              "  .colab-df-quickchart {\n",
              "    background-color: var(--bg-color);\n",
              "    border: none;\n",
              "    border-radius: 50%;\n",
              "    cursor: pointer;\n",
              "    display: none;\n",
              "    fill: var(--fill-color);\n",
              "    height: 32px;\n",
              "    padding: 0;\n",
              "    width: 32px;\n",
              "  }\n",
              "\n",
              "  .colab-df-quickchart:hover {\n",
              "    background-color: var(--hover-bg-color);\n",
              "    box-shadow: 0 1px 2px rgba(60, 64, 67, 0.3), 0 1px 3px 1px rgba(60, 64, 67, 0.15);\n",
              "    fill: var(--button-hover-fill-color);\n",
              "  }\n",
              "\n",
              "  .colab-df-quickchart-complete:disabled,\n",
              "  .colab-df-quickchart-complete:disabled:hover {\n",
              "    background-color: var(--disabled-bg-color);\n",
              "    fill: var(--disabled-fill-color);\n",
              "    box-shadow: none;\n",
              "  }\n",
              "\n",
              "  .colab-df-spinner {\n",
              "    border: 2px solid var(--fill-color);\n",
              "    border-color: transparent;\n",
              "    border-bottom-color: var(--fill-color);\n",
              "    animation:\n",
              "      spin 1s steps(1) infinite;\n",
              "  }\n",
              "\n",
              "  @keyframes spin {\n",
              "    0% {\n",
              "      border-color: transparent;\n",
              "      border-bottom-color: var(--fill-color);\n",
              "      border-left-color: var(--fill-color);\n",
              "    }\n",
              "    20% {\n",
              "      border-color: transparent;\n",
              "      border-left-color: var(--fill-color);\n",
              "      border-top-color: var(--fill-color);\n",
              "    }\n",
              "    30% {\n",
              "      border-color: transparent;\n",
              "      border-left-color: var(--fill-color);\n",
              "      border-top-color: var(--fill-color);\n",
              "      border-right-color: var(--fill-color);\n",
              "    }\n",
              "    40% {\n",
              "      border-color: transparent;\n",
              "      border-right-color: var(--fill-color);\n",
              "      border-top-color: var(--fill-color);\n",
              "    }\n",
              "    60% {\n",
              "      border-color: transparent;\n",
              "      border-right-color: var(--fill-color);\n",
              "    }\n",
              "    80% {\n",
              "      border-color: transparent;\n",
              "      border-right-color: var(--fill-color);\n",
              "      border-bottom-color: var(--fill-color);\n",
              "    }\n",
              "    90% {\n",
              "      border-color: transparent;\n",
              "      border-bottom-color: var(--fill-color);\n",
              "    }\n",
              "  }\n",
              "</style>\n",
              "\n",
              "  <script>\n",
              "    async function quickchart(key) {\n",
              "      const quickchartButtonEl =\n",
              "        document.querySelector('#' + key + ' button');\n",
              "      quickchartButtonEl.disabled = true;  // To prevent multiple clicks.\n",
              "      quickchartButtonEl.classList.add('colab-df-spinner');\n",
              "      try {\n",
              "        const charts = await google.colab.kernel.invokeFunction(\n",
              "            'suggestCharts', [key], {});\n",
              "      } catch (error) {\n",
              "        console.error('Error during call to suggestCharts:', error);\n",
              "      }\n",
              "      quickchartButtonEl.classList.remove('colab-df-spinner');\n",
              "      quickchartButtonEl.classList.add('colab-df-quickchart-complete');\n",
              "    }\n",
              "    (() => {\n",
              "      let quickchartButtonEl =\n",
              "        document.querySelector('#df-f98dfe01-83b6-4b15-a304-c6a1584250b7 button');\n",
              "      quickchartButtonEl.style.display =\n",
              "        google.colab.kernel.accessAllowed ? 'block' : 'none';\n",
              "    })();\n",
              "  </script>\n",
              "</div>\n",
              "    </div>\n",
              "  </div>\n"
            ],
            "application/vnd.google.colaboratory.intrinsic+json": {
              "type": "dataframe",
              "variable_name": "df",
              "summary": "{\n  \"name\": \"df\",\n  \"rows\": 3,\n  \"fields\": [\n    {\n      \"column\": \"1\",\n      \"properties\": {\n        \"dtype\": \"number\",\n        \"std\": 25449.86195632701,\n        \"min\": 0.581,\n        \"max\": 50676.81,\n        \"num_unique_values\": 3,\n        \"samples\": [\n          50676.81,\n          29464.987,\n          0.581\n        ],\n        \"semantic_type\": \"\",\n        \"description\": \"\"\n      }\n    },\n    {\n      \"column\": \"2\",\n      \"properties\": {\n        \"dtype\": \"number\",\n        \"std\": 24642.7672426176,\n        \"min\": 0.575,\n        \"max\": 49101.82,\n        \"num_unique_values\": 3,\n        \"samples\": [\n          49101.82,\n          28238.844,\n          0.575\n        ],\n        \"semantic_type\": \"\",\n        \"description\": \"\"\n      }\n    },\n    {\n      \"column\": \"3\",\n      \"properties\": {\n        \"dtype\": \"number\",\n        \"std\": 24811.644246849024,\n        \"min\": 0.598,\n        \"max\": 49309.17,\n        \"num_unique_values\": 3,\n        \"samples\": [\n          49309.17,\n          29487.235,\n          0.598\n        ],\n        \"semantic_type\": \"\",\n        \"description\": \"\"\n      }\n    },\n    {\n      \"column\": \"4\",\n      \"properties\": {\n        \"dtype\": \"number\",\n        \"std\": 25241.606133340847,\n        \"min\": 0.616,\n        \"max\": 50034.31,\n        \"num_unique_values\": 3,\n        \"samples\": [\n          50034.31,\n          30838.815,\n          0.616\n        ],\n        \"semantic_type\": \"\",\n        \"description\": \"\"\n      }\n    },\n    {\n      \"column\": \"5\",\n      \"properties\": {\n        \"dtype\": \"number\",\n        \"std\": 27248.638886909735,\n        \"min\": 0.534,\n        \"max\": 54454.76,\n        \"num_unique_values\": 3,\n        \"samples\": [\n          54454.76,\n          29103.258,\n          0.534\n        ],\n        \"semantic_type\": \"\",\n        \"description\": \"\"\n      }\n    },\n    {\n      \"column\": \"6\",\n      \"properties\": {\n        \"dtype\": \"number\",\n        \"std\": 25382.222670795323,\n        \"min\": 0.564,\n        \"max\": 50627.49,\n        \"num_unique_values\": 3,\n        \"samples\": [\n          50627.49,\n          28547.826,\n          0.564\n        ],\n        \"semantic_type\": \"\",\n        \"description\": \"\"\n      }\n    },\n    {\n      \"column\": \"7\",\n      \"properties\": {\n        \"dtype\": \"number\",\n        \"std\": 30143.32316579468,\n        \"min\": 0.467,\n        \"max\": 60243.84,\n        \"num_unique_values\": 3,\n        \"samples\": [\n          60243.84,\n          28144.326,\n          0.467\n        ],\n        \"semantic_type\": \"\",\n        \"description\": \"\"\n      }\n    },\n    {\n      \"column\": \"8\",\n      \"properties\": {\n        \"dtype\": \"number\",\n        \"std\": 27275.84827272227,\n        \"min\": 0.565,\n        \"max\": 54400.5,\n        \"num_unique_values\": 3,\n        \"samples\": [\n          54400.5,\n          30722.038,\n          0.565\n        ],\n        \"semantic_type\": \"\",\n        \"description\": \"\"\n      }\n    },\n    {\n      \"column\": \"9\",\n      \"properties\": {\n        \"dtype\": \"number\",\n        \"std\": 24247.66005423614,\n        \"min\": 0.641,\n        \"max\": 47869.93,\n        \"num_unique_values\": 3,\n        \"samples\": [\n          47869.93,\n          30661.758,\n          0.641\n        ],\n        \"semantic_type\": \"\",\n        \"description\": \"\"\n      }\n    },\n    {\n      \"column\": \"10\",\n      \"properties\": {\n        \"dtype\": \"number\",\n        \"std\": 24208.585081052635,\n        \"min\": 0.584,\n        \"max\": 48193.42,\n        \"num_unique_values\": 3,\n        \"samples\": [\n          48193.42,\n          28128.713,\n          0.584\n        ],\n        \"semantic_type\": \"\",\n        \"description\": \"\"\n      }\n    },\n    {\n      \"column\": \"11\",\n      \"properties\": {\n        \"dtype\": \"number\",\n        \"std\": 26231.0317993935,\n        \"min\": 0.583,\n        \"max\": 52221.21,\n        \"num_unique_values\": 3,\n        \"samples\": [\n          52221.21,\n          30464.708,\n          0.583\n        ],\n        \"semantic_type\": \"\",\n        \"description\": \"\"\n      }\n    },\n    {\n      \"column\": \"12\",\n      \"properties\": {\n        \"dtype\": \"number\",\n        \"std\": 25752.08051519491,\n        \"min\": 0.58,\n        \"max\": 51289.0,\n        \"num_unique_values\": 3,\n        \"samples\": [\n          51289.0,\n          29723.078,\n          0.58\n        ],\n        \"semantic_type\": \"\",\n        \"description\": \"\"\n      }\n    },\n    {\n      \"column\": \"13\",\n      \"properties\": {\n        \"dtype\": \"number\",\n        \"std\": 25133.328388887272,\n        \"min\": 0.579,\n        \"max\": 50058.72,\n        \"num_unique_values\": 3,\n        \"samples\": [\n          50058.72,\n          28990.644,\n          0.579\n        ],\n        \"semantic_type\": \"\",\n        \"description\": \"\"\n      }\n    },\n    {\n      \"column\": \"14\",\n      \"properties\": {\n        \"dtype\": \"number\",\n        \"std\": 30352.91499414714,\n        \"min\": 0.463,\n        \"max\": 60651.2,\n        \"num_unique_values\": 3,\n        \"samples\": [\n          60651.2,\n          28086.541,\n          0.463\n        ],\n        \"semantic_type\": \"\",\n        \"description\": \"\"\n      }\n    },\n    {\n      \"column\": \"15\",\n      \"properties\": {\n        \"dtype\": \"number\",\n        \"std\": 27906.857450942596,\n        \"min\": 0.519,\n        \"max\": 55800.98,\n        \"num_unique_values\": 3,\n        \"samples\": [\n          55800.98,\n          28954.074,\n          0.519\n        ],\n        \"semantic_type\": \"\",\n        \"description\": \"\"\n      }\n    },\n    {\n      \"column\": \"16\",\n      \"properties\": {\n        \"dtype\": \"number\",\n        \"std\": 25703.690065468574,\n        \"min\": 0.632,\n        \"max\": 50819.59,\n        \"num_unique_values\": 3,\n        \"samples\": [\n          50819.59,\n          32126.82,\n          0.632\n        ],\n        \"semantic_type\": \"\",\n        \"description\": \"\"\n      }\n    },\n    {\n      \"column\": \"17\",\n      \"properties\": {\n        \"dtype\": \"number\",\n        \"std\": 23992.18689431587,\n        \"min\": 0.597,\n        \"max\": 47684.34,\n        \"num_unique_values\": 3,\n        \"samples\": [\n          47684.34,\n          28486.883,\n          0.597\n        ],\n        \"semantic_type\": \"\",\n        \"description\": \"\"\n      }\n    },\n    {\n      \"column\": \"18\",\n      \"properties\": {\n        \"dtype\": \"number\",\n        \"std\": 25361.47166737551,\n        \"min\": 0.576,\n        \"max\": 50526.88,\n        \"num_unique_values\": 3,\n        \"samples\": [\n          50526.88,\n          29127.947,\n          0.576\n        ],\n        \"semantic_type\": \"\",\n        \"description\": \"\"\n      }\n    },\n    {\n      \"column\": \"19\",\n      \"properties\": {\n        \"dtype\": \"number\",\n        \"std\": 25199.00105428327,\n        \"min\": 0.606,\n        \"max\": 50022.26,\n        \"num_unique_values\": 3,\n        \"samples\": [\n          50022.26,\n          30335.394,\n          0.606\n        ],\n        \"semantic_type\": \"\",\n        \"description\": \"\"\n      }\n    },\n    {\n      \"column\": \"20\",\n      \"properties\": {\n        \"dtype\": \"number\",\n        \"std\": 27424.54926813931,\n        \"min\": 0.535,\n        \"max\": 54805.16,\n        \"num_unique_values\": 3,\n        \"samples\": [\n          54805.16,\n          29315.311,\n          0.535\n        ],\n        \"semantic_type\": \"\",\n        \"description\": \"\"\n      }\n    }\n  ]\n}"
            }
          },
          "metadata": {},
          "execution_count": 10
        }
      ]
    },
    {
      "cell_type": "markdown",
      "source": [
        "# Критерий $\\chi^2$"
      ],
      "metadata": {
        "id": "vG9u7DDmJBeh"
      }
    },
    {
      "cell_type": "markdown",
      "source": [
        "Определим число интервалов:"
      ],
      "metadata": {
        "id": "LFa8_pDN-c0l"
      }
    },
    {
      "cell_type": "code",
      "source": [
        "N = 100\n",
        "k = round(1 + np.log2(N))\n",
        "print(f'k = {k}')"
      ],
      "metadata": {
        "colab": {
          "base_uri": "https://localhost:8080/"
        },
        "id": "eYUP2H7yzY69",
        "outputId": "2bdb44cd-5b1d-410b-e4bd-5ea7dff0e9dd"
      },
      "execution_count": 11,
      "outputs": [
        {
          "output_type": "stream",
          "name": "stdout",
          "text": [
            "k = 8\n"
          ]
        }
      ]
    },
    {
      "cell_type": "markdown",
      "source": [
        "Для обоих генераторов диапазон значений = {0, ..., 104728}. Разобьем его на 8 примерно равных частей:"
      ],
      "metadata": {
        "id": "fJos2c_f1l6S"
      }
    },
    {
      "cell_type": "code",
      "source": [
        "interval_length = M // k\n",
        "intervals = [i*interval_length for i in range(1, k+1)]\n",
        "intervals"
      ],
      "metadata": {
        "id": "u3iz0EVx3jI0",
        "colab": {
          "base_uri": "https://localhost:8080/"
        },
        "outputId": "e967953f-d856-4f9a-b05c-cce3784f43ce"
      },
      "execution_count": 12,
      "outputs": [
        {
          "output_type": "execute_result",
          "data": {
            "text/plain": [
              "[13091, 26182, 39273, 52364, 65455, 78546, 91637, 104728]"
            ]
          },
          "metadata": {},
          "execution_count": 12
        }
      ]
    },
    {
      "cell_type": "markdown",
      "source": [
        "Высчитаем значение $\\chi^2$-статистики для каждой выборки:"
      ],
      "metadata": {
        "id": "V0KEVsKwJLSX"
      }
    },
    {
      "cell_type": "code",
      "source": [
        "chi_stat = {'ICG': [], 'CCG': []}\n",
        "for t in ['ICG', 'CCG']:\n",
        "    for sample in samples[t]:\n",
        "        freq = [0]*k\n",
        "        for elem in sample:\n",
        "            for i in range(k):\n",
        "                if elem <= intervals[i]:\n",
        "                    freq[i] += 1\n",
        "                    break\n",
        "        sum = 0\n",
        "        for i in range(k):\n",
        "            sum += k*np.power(freq[i], 2)\n",
        "        chi_stat[t].append(round(sum/N - N, 3))"
      ],
      "metadata": {
        "id": "kjEadQ-wALNP"
      },
      "execution_count": 13,
      "outputs": []
    },
    {
      "cell_type": "code",
      "source": [
        "percents = [0.01, 0.05, 0.25, 0.5, 0.75, 0.95, 0.99]\n",
        "percent_points = np.array([1.239, 2.167, 4.255, 6.346, 9.037, 14.07, 18.48])"
      ],
      "metadata": {
        "id": "MjbQ8tTVJEuO"
      },
      "execution_count": 14,
      "outputs": []
    },
    {
      "cell_type": "code",
      "source": [
        "for i, val in enumerate(chi_stat['ICG']):\n",
        "    if (val < percent_points[0]) or (val > percent_points[-1]):\n",
        "        print(f\"Выборка №{i+1}{' ' if i < 9 else ''}  противоречит гипотезе о случайности и равномерности ГПСЧ\")\n",
        "    else:\n",
        "        print(f\"Выборка №{i+1}{' ' if i < 9 else ''} не противоречит гипотезе о случайности и равномерности ГПСЧ с вероятностью {percents[np.argmin(abs(percent_points - val))]}\")"
      ],
      "metadata": {
        "colab": {
          "base_uri": "https://localhost:8080/"
        },
        "id": "GW0GnzmmKq1Q",
        "outputId": "a779f9f5-e07c-46f0-99c9-00b12c17e4a6"
      },
      "execution_count": 15,
      "outputs": [
        {
          "output_type": "stream",
          "name": "stdout",
          "text": [
            "Выборка №1  не противоречит гипотезе о случайности и равномерности ГПСЧ с вероятностью 0.25\n",
            "Выборка №2  не противоречит гипотезе о случайности и равномерности ГПСЧ с вероятностью 0.25\n",
            "Выборка №3  не противоречит гипотезе о случайности и равномерности ГПСЧ с вероятностью 0.75\n",
            "Выборка №4  не противоречит гипотезе о случайности и равномерности ГПСЧ с вероятностью 0.05\n",
            "Выборка №5  не противоречит гипотезе о случайности и равномерности ГПСЧ с вероятностью 0.5\n",
            "Выборка №6  не противоречит гипотезе о случайности и равномерности ГПСЧ с вероятностью 0.95\n",
            "Выборка №7  не противоречит гипотезе о случайности и равномерности ГПСЧ с вероятностью 0.05\n",
            "Выборка №8  не противоречит гипотезе о случайности и равномерности ГПСЧ с вероятностью 0.05\n",
            "Выборка №9  не противоречит гипотезе о случайности и равномерности ГПСЧ с вероятностью 0.05\n",
            "Выборка №10 не противоречит гипотезе о случайности и равномерности ГПСЧ с вероятностью 0.05\n",
            "Выборка №11 не противоречит гипотезе о случайности и равномерности ГПСЧ с вероятностью 0.5\n",
            "Выборка №12 не противоречит гипотезе о случайности и равномерности ГПСЧ с вероятностью 0.25\n",
            "Выборка №13 не противоречит гипотезе о случайности и равномерности ГПСЧ с вероятностью 0.25\n",
            "Выборка №14 не противоречит гипотезе о случайности и равномерности ГПСЧ с вероятностью 0.01\n",
            "Выборка №15 не противоречит гипотезе о случайности и равномерности ГПСЧ с вероятностью 0.05\n",
            "Выборка №16 не противоречит гипотезе о случайности и равномерности ГПСЧ с вероятностью 0.05\n",
            "Выборка №17 не противоречит гипотезе о случайности и равномерности ГПСЧ с вероятностью 0.95\n",
            "Выборка №18 не противоречит гипотезе о случайности и равномерности ГПСЧ с вероятностью 0.01\n",
            "Выборка №19 не противоречит гипотезе о случайности и равномерности ГПСЧ с вероятностью 0.05\n",
            "Выборка №20 не противоречит гипотезе о случайности и равномерности ГПСЧ с вероятностью 0.25\n"
          ]
        }
      ]
    },
    {
      "cell_type": "code",
      "source": [
        "for i, val in enumerate(chi_stat['CCG']):\n",
        "    if (val < percent_points[0]) or (val > percent_points[-1]):\n",
        "        print(f\"Выборка №{i+1}{' ' if i < 9 else ''}  противоречит гипотезе о случайности и равномерности ГПСЧ\")\n",
        "    else:\n",
        "        print(f\"Выборка №{i+1}{' ' if i < 9 else ''} не противоречит гипотезе о случайности и равномерности ГПСЧ с вероятностью {percents[np.argmin(abs(percent_points - val))]}\")"
      ],
      "metadata": {
        "colab": {
          "base_uri": "https://localhost:8080/"
        },
        "id": "OIvjU-WqN6Qn",
        "outputId": "8504a404-5c35-4181-bebd-90f614644d3b"
      },
      "execution_count": 16,
      "outputs": [
        {
          "output_type": "stream",
          "name": "stdout",
          "text": [
            "Выборка №1  не противоречит гипотезе о случайности и равномерности ГПСЧ с вероятностью 0.75\n",
            "Выборка №2  не противоречит гипотезе о случайности и равномерности ГПСЧ с вероятностью 0.75\n",
            "Выборка №3  не противоречит гипотезе о случайности и равномерности ГПСЧ с вероятностью 0.5\n",
            "Выборка №4  не противоречит гипотезе о случайности и равномерности ГПСЧ с вероятностью 0.25\n",
            "Выборка №5  не противоречит гипотезе о случайности и равномерности ГПСЧ с вероятностью 0.5\n",
            "Выборка №6  не противоречит гипотезе о случайности и равномерности ГПСЧ с вероятностью 0.75\n",
            "Выборка №7  не противоречит гипотезе о случайности и равномерности ГПСЧ с вероятностью 0.95\n",
            "Выборка №8  не противоречит гипотезе о случайности и равномерности ГПСЧ с вероятностью 0.25\n",
            "Выборка №9  не противоречит гипотезе о случайности и равномерности ГПСЧ с вероятностью 0.75\n",
            "Выборка №10 не противоречит гипотезе о случайности и равномерности ГПСЧ с вероятностью 0.95\n",
            "Выборка №11 не противоречит гипотезе о случайности и равномерности ГПСЧ с вероятностью 0.05\n",
            "Выборка №12 не противоречит гипотезе о случайности и равномерности ГПСЧ с вероятностью 0.5\n",
            "Выборка №13 не противоречит гипотезе о случайности и равномерности ГПСЧ с вероятностью 0.95\n",
            "Выборка №14 не противоречит гипотезе о случайности и равномерности ГПСЧ с вероятностью 0.99\n",
            "Выборка №15 не противоречит гипотезе о случайности и равномерности ГПСЧ с вероятностью 0.25\n",
            "Выборка №16 не противоречит гипотезе о случайности и равномерности ГПСЧ с вероятностью 0.95\n",
            "Выборка №17 не противоречит гипотезе о случайности и равномерности ГПСЧ с вероятностью 0.95\n",
            "Выборка №18 не противоречит гипотезе о случайности и равномерности ГПСЧ с вероятностью 0.25\n",
            "Выборка №19 не противоречит гипотезе о случайности и равномерности ГПСЧ с вероятностью 0.5\n",
            "Выборка №20 не противоречит гипотезе о случайности и равномерности ГПСЧ с вероятностью 0.5\n"
          ]
        }
      ]
    },
    {
      "cell_type": "markdown",
      "source": [
        "# NIST"
      ],
      "metadata": {
        "id": "eaDDunDZJGFn"
      }
    },
    {
      "cell_type": "markdown",
      "source": [
        "Сгенерируем каждым алгоритмом выборку из 0 и 1 размерности 1000000 и воспользуемся NIST-тестами (реализации брал [здесь](https://nvlpubs.nist.gov/nistpubs/legacy/sp/nistspecialpublication800-22r1a.pdf))"
      ],
      "metadata": {
        "id": "5muNOmXx5hsi"
      }
    },
    {
      "cell_type": "code",
      "source": [
        "n = 100000\n",
        "binary_sample = {'ICG': [], 'CCG': []}"
      ],
      "metadata": {
        "id": "QZF93DMN50Ii"
      },
      "execution_count": 17,
      "outputs": []
    },
    {
      "cell_type": "code",
      "source": [
        "r_i = 1\n",
        "k = 1\n",
        "b = 1\n",
        "M = 104729\n",
        "\n",
        "for i in range(n):\n",
        "    binary_sample['ICG'].append(r_i % 2)\n",
        "    r_i = ICG(M, k, b, r_i)"
      ],
      "metadata": {
        "id": "9tktApNI5ymT"
      },
      "execution_count": 18,
      "outputs": []
    },
    {
      "cell_type": "code",
      "source": [
        "r_i = 1\n",
        "k1 = 1\n",
        "k2 = 328942\n",
        "k3 = 11\n",
        "b = 1\n",
        "M = 104729\n",
        "\n",
        "for i in range(n):\n",
        "    binary_sample['CCG'].append(r_i % 2)\n",
        "    r_i = CCG(M, k1, k2, k3, b, r_i)"
      ],
      "metadata": {
        "id": "7HdiTYhv200p"
      },
      "execution_count": 19,
      "outputs": []
    },
    {
      "cell_type": "code",
      "source": [
        "binary_sample['ICG'] = np.array(binary_sample['ICG'])\n",
        "binary_sample['CCG'] = np.array(binary_sample['CCG'])"
      ],
      "metadata": {
        "id": "_jBdB_3q8QHU"
      },
      "execution_count": 20,
      "outputs": []
    },
    {
      "cell_type": "markdown",
      "source": [
        "## 1. Частотный побитовый тест"
      ],
      "metadata": {
        "id": "ZdbGyrQ35beV"
      }
    },
    {
      "cell_type": "code",
      "source": [
        "def monobit_test(input, n):\n",
        "    count0 = np.sum(input == 0)\n",
        "    count1 = np.sum(input == 1)\n",
        "    S_n = count1 - count0\n",
        "    S_obs = abs(S_n) / np.sqrt(n)\n",
        "    p_val = round(math.erfc(S_obs / math.sqrt(2)), 3)\n",
        "    success = (p_val >= 0.01)\n",
        "\n",
        "    return (success, p_val)"
      ],
      "metadata": {
        "id": "0ijO_SmI6iV_"
      },
      "execution_count": 21,
      "outputs": []
    },
    {
      "cell_type": "code",
      "source": [
        "monobit_test(binary_sample['ICG'], n)"
      ],
      "metadata": {
        "colab": {
          "base_uri": "https://localhost:8080/"
        },
        "id": "UtpaYJtU8tu2",
        "outputId": "57dc0f51-c78c-445a-ab35-52f463a269f3"
      },
      "execution_count": 22,
      "outputs": [
        {
          "output_type": "execute_result",
          "data": {
            "text/plain": [
              "(True, 0.087)"
            ]
          },
          "metadata": {},
          "execution_count": 22
        }
      ]
    },
    {
      "cell_type": "code",
      "source": [
        "monobit_test(binary_sample['CCG'], n)"
      ],
      "metadata": {
        "colab": {
          "base_uri": "https://localhost:8080/"
        },
        "id": "42Eyb2QW868x",
        "outputId": "c79fb261-ad97-417c-f32e-63e724e29644"
      },
      "execution_count": 23,
      "outputs": [
        {
          "output_type": "execute_result",
          "data": {
            "text/plain": [
              "(True, 0.077)"
            ]
          },
          "metadata": {},
          "execution_count": 23
        }
      ]
    },
    {
      "cell_type": "markdown",
      "source": [
        "## 2. Частотный блочный тест"
      ],
      "metadata": {
        "id": "-JKxMRYZEtlX"
      }
    },
    {
      "cell_type": "code",
      "source": [
        "def freq_within_block_test(input, n, m):\n",
        "    N = n // m\n",
        "    pi = np.array([np.sum(input[i*m:(i+1)*m] == 1) / m for i in range(N)])\n",
        "    chi_stat = 4*m*np.sum(np.power((pi - 0.5), 2))\n",
        "    p_val = round(scipy.special.gammaincc(N / 2, chi_stat / 2), 2)\n",
        "    success = (p_val >= 0.01)\n",
        "\n",
        "    return (success, p_val)"
      ],
      "metadata": {
        "id": "nIvCc7oiExTF"
      },
      "execution_count": 24,
      "outputs": []
    },
    {
      "cell_type": "code",
      "source": [
        "freq_within_block_test(binary_sample['ICG'], n, 3)"
      ],
      "metadata": {
        "colab": {
          "base_uri": "https://localhost:8080/"
        },
        "id": "ae48YtXmIpe9",
        "outputId": "44bad725-989a-46d3-c80b-f5b38e5a36e9"
      },
      "execution_count": 25,
      "outputs": [
        {
          "output_type": "execute_result",
          "data": {
            "text/plain": [
              "(True, 0.25)"
            ]
          },
          "metadata": {},
          "execution_count": 25
        }
      ]
    },
    {
      "cell_type": "code",
      "source": [
        "freq_within_block_test(binary_sample['CCG'], n, 3)"
      ],
      "metadata": {
        "colab": {
          "base_uri": "https://localhost:8080/"
        },
        "id": "TvhYQzoYI-Q6",
        "outputId": "81306989-c8f4-4065-fa65-f5e73e642c40"
      },
      "execution_count": 26,
      "outputs": [
        {
          "output_type": "execute_result",
          "data": {
            "text/plain": [
              "(True, 1.0)"
            ]
          },
          "metadata": {},
          "execution_count": 26
        }
      ]
    },
    {
      "cell_type": "markdown",
      "source": [
        "## 3. Тест на последовательность одинаковых битов"
      ],
      "metadata": {
        "id": "832fjwp3Jcvy"
      }
    },
    {
      "cell_type": "code",
      "source": [
        "def runs_test(input, n):\n",
        "    pi = np.sum(input == 1) / n\n",
        "    tau = 2 / np.sqrt(n)\n",
        "    if abs(pi - 0.5) > tau:\n",
        "        return (False, 0)\n",
        "    V_n = 1\n",
        "    for i in range(n-1):\n",
        "        if input[i] != input[i+1]:\n",
        "            V_n += 1\n",
        "    numerator = abs(V_n - 2*n*pi*(1-pi))\n",
        "    divisor =  2*np.sqrt(2*n)*pi*(1-pi)\n",
        "    p_val = round(math.erfc(numerator / divisor), 3)\n",
        "    success = (p_val >= 0.01)\n",
        "\n",
        "    return (success, p_val)"
      ],
      "metadata": {
        "id": "3sOCybxfJuCz"
      },
      "execution_count": 27,
      "outputs": []
    },
    {
      "cell_type": "code",
      "source": [
        "runs_test(binary_sample['ICG'], n)"
      ],
      "metadata": {
        "colab": {
          "base_uri": "https://localhost:8080/"
        },
        "id": "H1Ur_4weNMbB",
        "outputId": "e2e69118-3c86-4b0d-be5c-6e8dca503e50"
      },
      "execution_count": 28,
      "outputs": [
        {
          "output_type": "execute_result",
          "data": {
            "text/plain": [
              "(False, 0.002)"
            ]
          },
          "metadata": {},
          "execution_count": 28
        }
      ]
    },
    {
      "cell_type": "code",
      "source": [
        "runs_test(binary_sample['CCG'], n)"
      ],
      "metadata": {
        "colab": {
          "base_uri": "https://localhost:8080/"
        },
        "id": "RIeotrTWNR2s",
        "outputId": "79cdda94-2642-4c2f-94af-3e60f7be4650"
      },
      "execution_count": 29,
      "outputs": [
        {
          "output_type": "execute_result",
          "data": {
            "text/plain": [
              "(False, 0.0)"
            ]
          },
          "metadata": {},
          "execution_count": 29
        }
      ]
    },
    {
      "cell_type": "markdown",
      "source": [
        "*Выводы*: 2 из 3 тестов прошли - вполне неплохой результат для весьма простых ГПСЧ. Результам п.4 текущие результаты также не противоречат: там у нас гипотеза принималась и зачастую не с самыми высокими вероятностями."
      ],
      "metadata": {
        "id": "ss4UcCocQmfW"
      }
    },
    {
      "cell_type": "markdown",
      "source": [
        "# Время генерации"
      ],
      "metadata": {
        "id": "Ba4JZdVWJK8l"
      }
    },
    {
      "cell_type": "code",
      "source": [
        "sizes = list(map(int, [1e+3, 5e+3, 1e+4, 5e+4, 1e+5, 5e+5, 1e+6]))"
      ],
      "metadata": {
        "id": "O0DEyt6pdISR"
      },
      "execution_count": 16,
      "outputs": []
    },
    {
      "cell_type": "code",
      "source": [
        "ICG_times = []\n",
        "CCG_times = []\n",
        "STD_times = []\n",
        "for size in sizes:\n",
        "    r_i = 1\n",
        "    k = 1\n",
        "    k1 = 1\n",
        "    k2 = 328942\n",
        "    k3 = 11\n",
        "    b = 1\n",
        "    M = 104729\n",
        "\n",
        "    start = time.perf_counter()\n",
        "    for i in range(size):\n",
        "        r_i = ICG(M, k, b, r_i)\n",
        "    finish = time.perf_counter()\n",
        "    ICG_times.append(round(finish - start, 3))\n",
        "\n",
        "    start = time.perf_counter()\n",
        "    for i in range(size):\n",
        "        r_i = CCG(M, k1, k2, k3, b, r_i)\n",
        "    finish = time.perf_counter()\n",
        "    CCG_times.append(round(finish - start, 3))\n",
        "\n",
        "    start = time.perf_counter()\n",
        "    for i in range(size):\n",
        "        random.randint(0, 104728)\n",
        "    finish = time.perf_counter()\n",
        "    STD_times.append(round(finish - start, 3))"
      ],
      "metadata": {
        "id": "UqMt5JKecuLP"
      },
      "execution_count": null,
      "outputs": []
    },
    {
      "cell_type": "code",
      "source": [
        "plt.title('Зависимости времени генерации от размерности')\n",
        "plt.xlabel('Размерность')\n",
        "plt.ylabel('Время, сек')\n",
        "plt.plot(sizes, ICG_times, color='r', marker='o')\n",
        "plt.plot(sizes, CCG_times, color='g', marker='s')\n",
        "plt.plot(sizes, STD_times, color='y', linestyle='--', marker='D')\n",
        "plt.legend(['ICG', 'CCG', 'STD'])\n",
        "plt.show()"
      ],
      "metadata": {
        "colab": {
          "base_uri": "https://localhost:8080/",
          "height": 472
        },
        "id": "KbLYsVMpg7XI",
        "outputId": "2662d4bc-b204-4c99-93f9-698360f89d33"
      },
      "execution_count": null,
      "outputs": [
        {
          "output_type": "display_data",
          "data": {
            "text/plain": [
              "<Figure size 640x480 with 1 Axes>"
            ],
            "image/png": "[encoded data removed]"
          },
          "metadata": {}
        }
      ]
    }
  ]
}