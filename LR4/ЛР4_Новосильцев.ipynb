{
  "nbformat": 4,
  "nbformat_minor": 0,
  "metadata": {
    "colab": {
      "provenance": []
    },
    "kernelspec": {
      "name": "python3",
      "display_name": "Python 3"
    },
    "language_info": {
      "name": "python"
    }
  },
  "cells": [
    {
      "cell_type": "markdown",
      "source": [
        "# Абстрактный базовый класс"
      ],
      "metadata": {
        "id": "ztJ8z-XRuK6s"
      }
    },
    {
      "cell_type": "code",
      "source": [
        "from abc import ABC, abstractmethod"
      ],
      "metadata": {
        "id": "EaPwc2RtpNyK"
      },
      "execution_count": 94,
      "outputs": []
    },
    {
      "cell_type": "code",
      "source": [
        "class BaseRNG(ABC):\n",
        "    @abstractmethod\n",
        "    def random(self, min_val, max_val, seed):\n",
        "        pass\n",
        "\n",
        "    @abstractmethod\n",
        "    def generate_sample(self, min, max, n):\n",
        "        pass"
      ],
      "metadata": {
        "id": "TitEAZvQp73C"
      },
      "execution_count": 95,
      "outputs": []
    },
    {
      "cell_type": "markdown",
      "source": [
        "# Первая стратегия"
      ],
      "metadata": {
        "id": "PWQ-BPa4ubu2"
      }
    },
    {
      "cell_type": "code",
      "execution_count": 96,
      "metadata": {
        "id": "nmNbxtgCpIwA"
      },
      "outputs": [],
      "source": [
        "class LCRNG(BaseRNG):\n",
        "    def random(self, min_val, max_val, seed):\n",
        "        seed1 = 328942*seed + 1728\n",
        "        return min_val + seed1 % (max_val - min_val)\n",
        "\n",
        "    def generate_sample(self, min, max, n):\n",
        "        sample = []\n",
        "        r_i = 23748\n",
        "        for i in range(n):\n",
        "            r_i = self.random(min, max, r_i)\n",
        "            sample.append(r_i)\n",
        "        return sample"
      ]
    },
    {
      "cell_type": "markdown",
      "source": [
        "# Вторая стратегия"
      ],
      "metadata": {
        "id": "srmzERkovwVg"
      }
    },
    {
      "cell_type": "code",
      "source": [
        "class QCRNG(BaseRNG):\n",
        "    def random(self, min_val, max_val, seed):\n",
        "        seed1 = 328942*seed**2 + 1*seed + 1728\n",
        "        return min_val + seed1 % (max_val - min_val)\n",
        "\n",
        "    def generate_sample(self, min, max, n):\n",
        "        sample = []\n",
        "        r_i = 23748\n",
        "        for i in range(n):\n",
        "            r_i = self.random(min, max, r_i)\n",
        "            sample.append(r_i)\n",
        "        return sample"
      ],
      "metadata": {
        "id": "ahWauaNQq9du"
      },
      "execution_count": 97,
      "outputs": []
    },
    {
      "cell_type": "markdown",
      "source": [
        "# Третья стратегия"
      ],
      "metadata": {
        "id": "lkE1U-xgv-2T"
      }
    },
    {
      "cell_type": "code",
      "source": [
        "class CCRNG(BaseRNG):\n",
        "    def random(self, min_val, max_val, seed):\n",
        "        seed1 = 328942*seed**3 + 328942*seed**2 + seed + 1728\n",
        "        return min_val + seed1 % (max_val - min_val)\n",
        "\n",
        "    def generate_sample(self, min, max, n):\n",
        "        sample = []\n",
        "        r_i = 23748\n",
        "        for i in range(n):\n",
        "            r_i = self.random(min, max, r_i)\n",
        "            sample.append(r_i)\n",
        "        return sample"
      ],
      "metadata": {
        "id": "08Gmr39Rq_er"
      },
      "execution_count": 98,
      "outputs": []
    },
    {
      "cell_type": "markdown",
      "source": [
        "# Класс для использования"
      ],
      "metadata": {
        "id": "HuhDeD2syfQ1"
      }
    },
    {
      "cell_type": "code",
      "source": [
        "class RNG:\n",
        "    def __init__(self, strategy: str = 'linear_congruential'):\n",
        "        if strategy in ['linear_congruential', 'quadratic_congruential', 'cubic_congruential']:\n",
        "            if strategy == 'linear_congruential':\n",
        "                self.strategy = LCRNG()\n",
        "            elif strategy == 'quadratic_congruential':\n",
        "                self.strategy = QCRNG()\n",
        "            elif strategy == 'cubic_congruential':\n",
        "                self.strategy = CCRNG()\n",
        "        else:\n",
        "            print(f\"Incorrect argument: strategy = '{strategy}' => strategy set to 'linear_congruential'\\n\")\n",
        "            self.strategy = LCRNG()\n",
        "\n",
        "    def set_strategy(self, strategy: str):\n",
        "        if strategy in ['linear_congruential', 'quadratic_congruential', 'cubic_congruential']:\n",
        "            if strategy == 'linear_congruential':\n",
        "                self.strategy = LCRNG()\n",
        "            elif strategy == 'quadratic_congruential':\n",
        "                self.strategy = QCRNG()\n",
        "            elif strategy == 'cubic_congruential':\n",
        "                self.strategy = CCRNG()\n",
        "        else:\n",
        "            print(f\"Incorrect argument: strategy = '{strategy}' => strategy isn't changed\\n\")\n",
        "\n",
        "    def generate_sample(self, min, max, n):\n",
        "        return self.strategy.generate_sample(min, max, n)"
      ],
      "metadata": {
        "id": "vgr25DAgrBkJ"
      },
      "execution_count": 99,
      "outputs": []
    },
    {
      "cell_type": "markdown",
      "source": [
        "# Пример использования"
      ],
      "metadata": {
        "id": "JN2m9YIF02MC"
      }
    },
    {
      "cell_type": "code",
      "source": [
        "rng = RNG('trash')\n",
        "print(f'linear_congruential: {rng.generate_sample(0, 1000, 10)}')\n",
        "rng.set_strategy('quadratic_congruential')\n",
        "print(f'quadratic_congruential: {rng.generate_sample(0, 1000, 10)}')\n",
        "rng.set_strategy('trash')\n",
        "print(f'quadratic_congruential: {rng.generate_sample(0, 1000, 10)}')\n",
        "rng.set_strategy('cubic_congruential')\n",
        "print(f'cubic_congruential: {rng.generate_sample(0, 1000, 10)}')"
      ],
      "metadata": {
        "colab": {
          "base_uri": "https://localhost:8080/"
        },
        "id": "OD_9TXFDzmOw",
        "outputId": "d721ff7b-2cdc-4670-e3c3-eace8495d3df"
      },
      "execution_count": 100,
      "outputs": [
        {
          "output_type": "stream",
          "name": "stdout",
          "text": [
            "Incorrect argument: strategy = 'trash' => strategy set to 'linear_congruential'\n",
            "\n",
            "linear_congruential: [344, 776, 720, 968, 584, 856, 80, 88, 624, 536]\n",
            "quadratic_congruential: [244, 884, 164, 924, 644, 684, 764, 124, 44, 484]\n",
            "Incorrect argument: strategy = 'trash' => strategy isn't changed\n",
            "\n",
            "quadratic_congruential: [244, 884, 164, 924, 644, 684, 764, 124, 44, 484]\n",
            "cubic_congruential: [708, 228, 468, 348, 908, 628, 268, 948, 108, 28]\n"
          ]
        }
      ]
    }
  ]
}